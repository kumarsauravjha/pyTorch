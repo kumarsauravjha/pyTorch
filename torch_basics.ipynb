{
 "cells": [
  {
   "cell_type": "code",
   "execution_count": 1,
   "metadata": {},
   "outputs": [],
   "source": [
    "import torch\n",
    "import numpy as np"
   ]
  },
  {
   "cell_type": "code",
   "execution_count": 3,
   "metadata": {},
   "outputs": [
    {
     "data": {
      "text/plain": [
       "[[1, 2, 3, 4, 5], [6, 7, 8, 9]]"
      ]
     },
     "execution_count": 3,
     "metadata": {},
     "output_type": "execute_result"
    }
   ],
   "source": [
    "my_list = [[1,2,3,4,5],[6,7,8,9]]\n",
    "my_list"
   ]
  },
  {
   "cell_type": "code",
   "execution_count": 19,
   "metadata": {},
   "outputs": [
    {
     "data": {
      "text/plain": [
       "array([[[0.20755204, 0.09570806],\n",
       "        [0.41447367, 0.26884911],\n",
       "        [0.65330426, 0.09024432],\n",
       "        [0.03190298, 0.50621423]],\n",
       "\n",
       "       [[0.41860493, 0.87994158],\n",
       "        [0.08991399, 0.65326323],\n",
       "        [0.73798923, 0.59407031],\n",
       "        [0.89837543, 0.58575551]],\n",
       "\n",
       "       [[0.01095487, 0.98459829],\n",
       "        [0.51305469, 0.12177668],\n",
       "        [0.25828681, 0.15708671],\n",
       "        [0.8072585 , 0.71654494]]])"
      ]
     },
     "execution_count": 19,
     "metadata": {},
     "output_type": "execute_result"
    }
   ],
   "source": [
    "numpy_array = np.array([1,2,3,4,5])\n",
    "numpy_array\n",
    "np1 = np.random.rand(3,4,2)\n",
    "np1\n",
    "# np1.ndim\n"
   ]
  },
  {
   "cell_type": "code",
   "execution_count": 20,
   "metadata": {},
   "outputs": [
    {
     "data": {
      "text/plain": [
       "tensor([[[ 0.3090,  1.4923],\n",
       "         [-1.3478,  0.0594],\n",
       "         [ 1.6779,  0.1027],\n",
       "         [ 1.3069,  0.7281]],\n",
       "\n",
       "        [[ 1.6807, -3.4806],\n",
       "         [-1.0087, -0.5414],\n",
       "         [ 0.8182, -1.4960],\n",
       "         [-0.6195, -1.1548]],\n",
       "\n",
       "        [[ 0.8793,  0.0906],\n",
       "         [ 0.3464,  0.5369],\n",
       "         [-0.6556,  0.7568],\n",
       "         [ 0.6782, -0.1451]]])"
      ]
     },
     "execution_count": 20,
     "metadata": {},
     "output_type": "execute_result"
    }
   ],
   "source": [
    "tensor_2d = torch.randn(3,4,2)\n",
    "tensor_2d"
   ]
  },
  {
   "cell_type": "code",
   "execution_count": 18,
   "metadata": {},
   "outputs": [
    {
     "data": {
      "text/plain": [
       "tensor([[[-0.4973,  0.2388, -1.4698],\n",
       "         [ 0.8439, -1.0072,  0.6715]]])"
      ]
     },
     "execution_count": 18,
     "metadata": {},
     "output_type": "execute_result"
    }
   ],
   "source": [
    "tensor_3d = torch.randn(1,2,3)\n",
    "tensor_3d"
   ]
  },
  {
   "cell_type": "code",
   "execution_count": 23,
   "metadata": {},
   "outputs": [
    {
     "data": {
      "text/plain": [
       "tensor([[[0.2076, 0.0957],\n",
       "         [0.4145, 0.2688],\n",
       "         [0.6533, 0.0902],\n",
       "         [0.0319, 0.5062]],\n",
       "\n",
       "        [[0.4186, 0.8799],\n",
       "         [0.0899, 0.6533],\n",
       "         [0.7380, 0.5941],\n",
       "         [0.8984, 0.5858]],\n",
       "\n",
       "        [[0.0110, 0.9846],\n",
       "         [0.5131, 0.1218],\n",
       "         [0.2583, 0.1571],\n",
       "         [0.8073, 0.7165]]], dtype=torch.float64)"
      ]
     },
     "execution_count": 23,
     "metadata": {},
     "output_type": "execute_result"
    }
   ],
   "source": [
    "tensor_3d_ = torch.tensor(np1)\n",
    "tensor_3d_"
   ]
  },
  {
   "cell_type": "markdown",
   "metadata": {},
   "source": [
    "### reshaping and slicing"
   ]
  },
  {
   "cell_type": "code",
   "execution_count": 28,
   "metadata": {},
   "outputs": [
    {
     "data": {
      "text/plain": [
       "tensor([0, 1, 2, 3, 4, 5, 6, 7, 8, 9])"
      ]
     },
     "execution_count": 28,
     "metadata": {},
     "output_type": "execute_result"
    }
   ],
   "source": [
    "my_torch = torch.arange(10)\n",
    "my_torch"
   ]
  },
  {
   "cell_type": "code",
   "execution_count": 32,
   "metadata": {},
   "outputs": [
    {
     "data": {
      "text/plain": [
       "tensor([[0, 1],\n",
       "        [2, 3],\n",
       "        [4, 5],\n",
       "        [6, 7],\n",
       "        [8, 9]])"
      ]
     },
     "execution_count": 32,
     "metadata": {},
     "output_type": "execute_result"
    }
   ],
   "source": [
    "my_torch = my_torch.reshape(5,2)\n",
    "my_torch"
   ]
  },
  {
   "cell_type": "code",
   "execution_count": 41,
   "metadata": {},
   "outputs": [
    {
     "data": {
      "text/plain": [
       "tensor([ 0,  1,  2,  3,  4,  5,  6,  7,  8,  9, 10, 11, 12, 13])"
      ]
     },
     "execution_count": 41,
     "metadata": {},
     "output_type": "execute_result"
    }
   ],
   "source": [
    "my2 = torch.arange(14)\n",
    "my2"
   ]
  },
  {
   "cell_type": "code",
   "execution_count": 46,
   "metadata": {},
   "outputs": [
    {
     "data": {
      "text/plain": [
       "tensor([[ 0,  1],\n",
       "        [ 2,  3],\n",
       "        [ 4,  5],\n",
       "        [ 6,  7],\n",
       "        [ 8,  9],\n",
       "        [10, 11],\n",
       "        [12, 13]])"
      ]
     },
     "execution_count": 46,
     "metadata": {},
     "output_type": "execute_result"
    }
   ],
   "source": [
    "my2 = my2.reshape(-1,2)\n",
    "my2"
   ]
  },
  {
   "cell_type": "code",
   "execution_count": 47,
   "metadata": {},
   "outputs": [
    {
     "data": {
      "text/plain": [
       "tensor([0, 1, 2, 3, 4, 5, 6, 7, 8, 9])"
      ]
     },
     "execution_count": 47,
     "metadata": {},
     "output_type": "execute_result"
    }
   ],
   "source": [
    "my3 = torch.arange(10)\n",
    "my3"
   ]
  },
  {
   "cell_type": "code",
   "execution_count": 51,
   "metadata": {},
   "outputs": [
    {
     "data": {
      "text/plain": [
       "tensor([[100,   1,   2,   3,   4],\n",
       "        [  5,   6,   7,   8,   9]])"
      ]
     },
     "execution_count": 51,
     "metadata": {},
     "output_type": "execute_result"
    }
   ],
   "source": [
    "my4 = my3.view(2,-1)\n",
    "my4\n",
    "my3[0] = 100\n",
    "my3\n",
    "my4"
   ]
  },
  {
   "cell_type": "code",
   "execution_count": 56,
   "metadata": {},
   "outputs": [
    {
     "data": {
      "text/plain": [
       "tensor([-0.9115,  1.5651, -0.2718, -1.6004, -0.2213,  0.0112,  0.0982,  0.1165,\n",
       "         1.0607,  0.7061])"
      ]
     },
     "execution_count": 56,
     "metadata": {},
     "output_type": "execute_result"
    }
   ],
   "source": [
    "my5= torch.randn(10)\n",
    "my5\n"
   ]
  },
  {
   "cell_type": "code",
   "execution_count": 57,
   "metadata": {},
   "outputs": [
    {
     "name": "stdout",
     "output_type": "stream",
     "text": [
      "tensor(-0.9115)\n"
     ]
    }
   ],
   "source": [
    "print(my5[0])"
   ]
  },
  {
   "cell_type": "code",
   "execution_count": 59,
   "metadata": {},
   "outputs": [
    {
     "name": "stdout",
     "output_type": "stream",
     "text": [
      "tensor([[4, 5],\n",
      "        [6, 7]])\n"
     ]
    }
   ],
   "source": [
    "print(my2[2:4,:])"
   ]
  },
  {
   "cell_type": "code",
   "execution_count": null,
   "metadata": {},
   "outputs": [],
   "source": []
  }
 ],
 "metadata": {
  "kernelspec": {
   "display_name": "my_conda_env",
   "language": "python",
   "name": "python3"
  },
  "language_info": {
   "codemirror_mode": {
    "name": "ipython",
    "version": 3
   },
   "file_extension": ".py",
   "mimetype": "text/x-python",
   "name": "python",
   "nbconvert_exporter": "python",
   "pygments_lexer": "ipython3",
   "version": "3.12.5"
  }
 },
 "nbformat": 4,
 "nbformat_minor": 2
}
